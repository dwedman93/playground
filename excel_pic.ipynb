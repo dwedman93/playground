{
 "cells": [
  {
   "cell_type": "code",
   "execution_count": 105,
   "metadata": {},
   "outputs": [],
   "source": [
    "# Imports PIL module \n",
    "from PIL import Image\n",
    "# open method used to open different extension image file\n",
    "# This method will show image in any image viewer \n",
    "import openpyxl\n",
    "from openpyxl.styles import PatternFill\n"
   ]
  },
  {
   "cell_type": "code",
   "execution_count": 106,
   "metadata": {},
   "outputs": [],
   "source": [
    "im = Image.open(r\"./data/pics/it-aint-much-meme.webp\") \n",
    "x_size, y_size = im.size\n",
    "new_width = 200\n",
    "new_height = int(new_width * y_size/x_size)\n",
    "im = im.resize((new_width,new_height))"
   ]
  },
  {
   "cell_type": "code",
   "execution_count": 107,
   "metadata": {},
   "outputs": [],
   "source": [
    "im.show()"
   ]
  },
  {
   "cell_type": "code",
   "execution_count": 108,
   "metadata": {},
   "outputs": [],
   "source": [
    "filepath = './data/excel/it_aint_much.xlsx'\n",
    "wb = openpyxl.Workbook()"
   ]
  },
  {
   "cell_type": "code",
   "execution_count": 111,
   "metadata": {},
   "outputs": [],
   "source": [
    "col_width = float(8.0)\n",
    "ws = wb['Sheet']\n",
    "for row in ws.iter_rows(min_row=1, max_col=new_width, max_row=new_height):\n",
    "    for cell in row:\n",
    "\n",
    "        row_num = cell.row - 1 # Excel startet bei 1, python startet bei 0\n",
    "        cell_num = cell.col_idx - 1\n",
    "        r,g,b = im.getpixel((cell_num,row_num))\n",
    "        color = '{:02x}{:02x}{:02x}'. format(r, g, b)\n",
    "        fill = PatternFill(patternType='solid', fgColor=color)\n",
    "        cell.fill = fill\n",
    "        \n",
    "        ws.column_dimensions[cell.column_letter].width = col_width\n",
    "    ws.row_dimensions[row_num  +1].height = col_width * 7.25\n",
    "    \n",
    "    \n"
   ]
  },
  {
   "cell_type": "code",
   "execution_count": 112,
   "metadata": {},
   "outputs": [],
   "source": [
    "wb.save(filename=filepath)"
   ]
  }
 ],
 "metadata": {
  "kernelspec": {
   "display_name": ".venv",
   "language": "python",
   "name": "python3"
  },
  "language_info": {
   "codemirror_mode": {
    "name": "ipython",
    "version": 3
   },
   "file_extension": ".py",
   "mimetype": "text/x-python",
   "name": "python",
   "nbconvert_exporter": "python",
   "pygments_lexer": "ipython3",
   "version": "3.10.12"
  },
  "orig_nbformat": 4
 },
 "nbformat": 4,
 "nbformat_minor": 2
}
